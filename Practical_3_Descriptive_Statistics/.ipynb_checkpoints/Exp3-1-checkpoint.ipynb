{
 "cells": [
  {
   "cell_type": "code",
   "execution_count": 2,
   "metadata": {},
   "outputs": [],
   "source": [
    "import pandas as pd"
   ]
  },
  {
   "cell_type": "markdown",
   "metadata": {},
   "source": [
    "Load Dataframe\n"
   ]
  },
  {
   "cell_type": "code",
   "execution_count": 4,
   "metadata": {},
   "outputs": [],
   "source": [
    "df = pd.read_csv('Employee_Salary.csv')"
   ]
  },
  {
   "cell_type": "code",
   "execution_count": 5,
   "metadata": {},
   "outputs": [
    {
     "name": "stdout",
     "output_type": "stream",
     "text": [
      "-------------Dataframe Described-------------\n",
      "              ID  Experience        Age        Salary\n",
      "count  35.000000   34.000000  35.000000  3.500000e+01\n",
      "mean   18.000000    9.147059  35.485714  2.059147e+06\n",
      "std    10.246951    7.659940  14.643552  3.170124e+06\n",
      "min     1.000000    1.000000  17.000000  3.000000e+03\n",
      "25%     9.500000    2.250000  22.500000  2.250000e+04\n",
      "50%    18.000000    5.500000  29.000000  2.500000e+05\n",
      "75%    26.500000   15.000000  53.500000  3.270000e+06\n",
      "max    35.000000   27.000000  62.000000  1.000000e+07\n",
      "\n",
      "\n"
     ]
    }
   ],
   "source": [
    "print(\"-------------Dataframe Described-------------\")\n",
    "print(df.describe())\n",
    "print(\"\\n\")"
   ]
  },
  {
   "cell_type": "code",
   "execution_count": 6,
   "metadata": {},
   "outputs": [
    {
     "name": "stdout",
     "output_type": "stream",
     "text": [
      "-------------Dataframe Shape-----------------\n",
      "(35, 5)\n",
      "\n",
      "\n"
     ]
    }
   ],
   "source": [
    "print(\"-------------Dataframe Shape-----------------\")\n",
    "print(df.shape)\n",
    "print(\"\\n\")"
   ]
  },
  {
   "cell_type": "code",
   "execution_count": 7,
   "metadata": {},
   "outputs": [
    {
     "name": "stdout",
     "output_type": "stream",
     "text": [
      "-------------Dataframe Size-----------------\n",
      "175\n",
      "\n",
      "\n"
     ]
    }
   ],
   "source": [
    "print(\"-------------Dataframe Size-----------------\")\n",
    "print(df.size)\n",
    "print(\"\\n\")"
   ]
  },
  {
   "cell_type": "code",
   "execution_count": 15,
   "metadata": {},
   "outputs": [
    {
     "name": "stdout",
     "output_type": "stream",
     "text": [
      "-------------Dataframe Min Value-----------------\n",
      "1.0\n",
      "\n",
      "\n"
     ]
    }
   ],
   "source": [
    "print(\"-------------Dataframe Min Value-----------------\")\n",
    "print(df[\"Experience\"].min())\n",
    "print(\"\\n\")"
   ]
  },
  {
   "cell_type": "code",
   "execution_count": 17,
   "metadata": {},
   "outputs": [
    {
     "name": "stdout",
     "output_type": "stream",
     "text": [
      "-------------Dataframe Max Value-----------------\n",
      "27.0\n",
      "\n",
      "\n"
     ]
    }
   ],
   "source": [
    "print(\"-------------Dataframe Max Value-----------------\")\n",
    "print(df[\"Experience\"].max())\n",
    "print(\"\\n\")"
   ]
  },
  {
   "cell_type": "code",
   "execution_count": 19,
   "metadata": {},
   "outputs": [
    {
     "name": "stdout",
     "output_type": "stream",
     "text": [
      "-------------Age Column Mean-----------------\n",
      "35.48571428571429\n",
      "\n",
      "\n"
     ]
    }
   ],
   "source": [
    "print(\"-------------Age Column Mean-----------------\")\n",
    "print(df['Age'].mean())\n",
    "print(\"\\n\")"
   ]
  },
  {
   "cell_type": "code",
   "execution_count": 20,
   "metadata": {},
   "outputs": [
    {
     "name": "stdout",
     "output_type": "stream",
     "text": [
      "-------------Age Column Median-----------------\n",
      "29.0\n",
      "\n",
      "\n"
     ]
    }
   ],
   "source": [
    "print(\"-------------Age Column Median-----------------\")\n",
    "print(df['Age'].median())\n",
    "print(\"\\n\")"
   ]
  },
  {
   "cell_type": "code",
   "execution_count": 10,
   "metadata": {},
   "outputs": [
    {
     "name": "stdout",
     "output_type": "stream",
     "text": [
      "-------------Age Column Mode-----------------\n",
      "0    36\n",
      "Name: age, dtype: int64\n",
      "\n",
      "\n"
     ]
    }
   ],
   "source": [
    "print(\"-------------Age Column Mode-----------------\")\n",
    "print(df['Age'].mode())\n",
    "print(\"\\n\")"
   ]
  },
  {
   "cell_type": "code",
   "execution_count": 24,
   "metadata": {},
   "outputs": [
    {
     "name": "stdout",
     "output_type": "stream",
     "text": [
      "-------------Age Column Standard Deviation-----------------\n",
      "14.6436\n",
      "\n",
      "\n"
     ]
    }
   ],
   "source": [
    "print(\"-------------Age Column Standard Deviation-----------------\")\n",
    "print(round(df['Age'].std(),4))\n",
    "print(\"\\n\")"
   ]
  },
  {
   "cell_type": "code",
   "execution_count": 22,
   "metadata": {},
   "outputs": [
    {
     "name": "stdout",
     "output_type": "stream",
     "text": [
      "-------------Age Column Descibe-----------------\n",
      "count    35.000\n",
      "mean     35.486\n",
      "std      14.644\n",
      "min      17.000\n",
      "25%      22.500\n",
      "50%      29.000\n",
      "75%      53.500\n",
      "max      62.000\n",
      "Name: Age, dtype: float64\n",
      "\n",
      "\n"
     ]
    }
   ],
   "source": [
    "print(\"-------------Age Column Descibe-----------------\")\n",
    "print(round(df['Age'].describe(),3))\n",
    "print(\"\\n\")"
   ]
  },
  {
   "cell_type": "code",
   "execution_count": 25,
   "metadata": {},
   "outputs": [
    {
     "name": "stdout",
     "output_type": "stream",
     "text": [
      "-------------Age Column Grouped By Education (Describe)-----------------\n",
      "        count       mean        std   min   25%   50%   75%   max\n",
      "Gender                                                           \n",
      "Female   17.0  37.705882  15.711320  21.0  23.0  34.0  54.0  62.0\n",
      "Male     17.0  33.764706  13.997899  17.0  22.0  29.0  40.0  62.0\n",
      "\n",
      "\n"
     ]
    }
   ],
   "source": [
    "print(\"-------------Age Column Grouped By Education (Describe)-----------------\")\n",
    "print(df['Age'].groupby(df['Gender']).describe())\n",
    "print(\"\\n\")"
   ]
  },
  {
   "cell_type": "code",
   "execution_count": null,
   "metadata": {},
   "outputs": [],
   "source": []
  }
 ],
 "metadata": {
  "kernelspec": {
   "display_name": "Python 3 (ipykernel)",
   "language": "python",
   "name": "python3"
  },
  "language_info": {
   "codemirror_mode": {
    "name": "ipython",
    "version": 3
   },
   "file_extension": ".py",
   "mimetype": "text/x-python",
   "name": "python",
   "nbconvert_exporter": "python",
   "pygments_lexer": "ipython3",
   "version": "3.11.5"
  }
 },
 "nbformat": 4,
 "nbformat_minor": 2
}

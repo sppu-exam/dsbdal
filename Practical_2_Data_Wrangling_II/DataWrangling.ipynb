{
 "cells": [
  {
   "cell_type": "code",
   "execution_count": 1,
   "metadata": {},
   "outputs": [],
   "source": [
    "import pandas as pd\n",
    "import numpy as np\n",
    "import matplotlib.pyplot as plt\n",
    "from IPython.core.interactiveshell import InteractiveShell\n",
    "InteractiveShell.ast_node_interactivity = \"all\""
   ]
  },
  {
   "cell_type": "code",
   "execution_count": 2,
   "metadata": {},
   "outputs": [],
   "source": [
    "df = pd.read_csv('Academic-Performance-Dataset.csv')"
   ]
  },
  {
   "cell_type": "code",
   "execution_count": 3,
   "metadata": {},
   "outputs": [
    {
     "name": "stdout",
     "output_type": "stream",
     "text": [
      "------------------Shape of Dataset------------------\n",
      "(20, 12)\n",
      "\n",
      "\n"
     ]
    }
   ],
   "source": [
    "print(\"------------------Shape of Dataset------------------\")\n",
    "print(df.shape)\n",
    "print(\"\\n\")"
   ]
  },
  {
   "cell_type": "code",
   "execution_count": 4,
   "metadata": {},
   "outputs": [
    {
     "name": "stdout",
     "output_type": "stream",
     "text": [
      "-----------------Data Types in Dataset-----------------\n",
      "Rollno           int64\n",
      "Name            object\n",
      "Gender          object\n",
      "Branch          object\n",
      "Attendence     float64\n",
      "Phy_marks      float64\n",
      "Che_marks      float64\n",
      "EM1_marks      float64\n",
      "PPS_marks      float64\n",
      "SME_marks      float64\n",
      "Total Marks      int64\n",
      "Percentage     float64\n",
      "dtype: object\n",
      "\n",
      "\n"
     ]
    }
   ],
   "source": [
    "print(\"-----------------Data Types in Dataset-----------------\")\n",
    "print(df.dtypes)\n",
    "print(\"\\n\")"
   ]
  },
  {
   "cell_type": "code",
   "execution_count": 5,
   "metadata": {},
   "outputs": [
    {
     "name": "stdout",
     "output_type": "stream",
     "text": [
      "=====================Data Cleanning===================\n",
      "\n"
     ]
    }
   ],
   "source": [
    "print(\"=====================Data Cleanning===================\\n\")"
   ]
  },
  {
   "cell_type": "code",
   "execution_count": 6,
   "metadata": {},
   "outputs": [
    {
     "name": "stdout",
     "output_type": "stream",
     "text": [
      "-------------Handling Missing Values in Dataset-------------\n",
      "Rollno         0\n",
      "Name           2\n",
      "Gender         0\n",
      "Branch         0\n",
      "Attendence     0\n",
      "Phy_marks      1\n",
      "Che_marks      3\n",
      "EM1_marks      2\n",
      "PPS_marks      1\n",
      "SME_marks      0\n",
      "Total Marks    0\n",
      "Percentage     0\n",
      "dtype: int64\n",
      "\n",
      "\n"
     ]
    }
   ],
   "source": [
    "print(\"-------------Handling Missing Values in Dataset-------------\")\n",
    "print(df.isnull().sum())\n",
    "print(\"\\n\")"
   ]
  },
  {
   "cell_type": "code",
   "execution_count": 7,
   "metadata": {},
   "outputs": [
    {
     "name": "stdout",
     "output_type": "stream",
     "text": [
      "--------------List of name of columns with missing values--------------\n",
      "Index(['Name', 'Phy_marks', 'Che_marks', 'EM1_marks', 'PPS_marks'], dtype='object')\n",
      "\n",
      "\n"
     ]
    }
   ],
   "source": [
    "print(\"--------------List of name of columns with missing values--------------\")\n",
    "cols_with_missing = df.columns[df.isnull().any()]\n",
    "print(cols_with_missing)\n",
    "print(\"\\n\")"
   ]
  },
  {
   "cell_type": "code",
   "execution_count": 8,
   "metadata": {},
   "outputs": [
    {
     "name": "stdout",
     "output_type": "stream",
     "text": [
      "-------------Filling Missing Values with Mean/Mode Imputation-------------\n",
      "   Rollno      Name Gender Branch  Attendence  Phy_marks   Che_marks  \\\n",
      "0       1  Mohammed      M   Comp        72.0  62.000000   98.000000   \n",
      "1       2   Reyansh      M     IT        58.0  62.000000   83.000000   \n",
      "2       3     Aarav      M     IT        57.0  74.058824  100.000000   \n",
      "3       4    Atharv      M     IT        60.0  89.000000   83.000000   \n",
      "4       5    Vivaan      M   Comp        85.0  90.000000   80.764706   \n",
      "\n",
      "   EM1_marks  PPS_marks  SME_marks  Total Marks  Percentage  \n",
      "0  63.000000       89.0       36.0          368        73.6  \n",
      "1  83.000000       88.0       34.0          350        70.0  \n",
      "2  83.444444       56.0       36.0          192        38.4  \n",
      "3  70.000000       33.0       23.0          298        59.6  \n",
      "4  78.000000       23.0       56.0          247        49.4  \n",
      "\n",
      "\n"
     ]
    }
   ],
   "source": [
    "print(\"-------------Filling Missing Values with Mean/Mode Imputation-------------\")\n",
    "for col in cols_with_missing:\n",
    "    col_dt = df[col].dtype\n",
    "    if col_dt in ['int64', 'float64']:\n",
    "        outliers = (df[col] < 0) | (df[col] > 100)\n",
    "        df.loc[outliers, col] = np.nan\n",
    "        df[col] = df[col].fillna(df[col].mean())\n",
    "    else:\n",
    "        df[col] = df[col].ffill()\n",
    "print(df.head())\n",
    "print(\"\\n\")"
   ]
  },
  {
   "cell_type": "code",
   "execution_count": 9,
   "metadata": {},
   "outputs": [
    {
     "name": "stdout",
     "output_type": "stream",
     "text": [
      "---------------Correction in Percentage & Total Marks Columns---------------\n",
      "   Rollno      Name Gender Branch  Attendence  Phy_marks   Che_marks  \\\n",
      "0       1  Mohammed      M   Comp        72.0  62.000000   98.000000   \n",
      "1       2   Reyansh      M     IT        58.0  62.000000   83.000000   \n",
      "2       3     Aarav      M     IT        57.0  74.058824  100.000000   \n",
      "3       4    Atharv      M     IT        60.0  89.000000   83.000000   \n",
      "4       5    Vivaan      M   Comp        85.0  90.000000   80.764706   \n",
      "\n",
      "   EM1_marks  PPS_marks  SME_marks  Total Marks  Percentage  \n",
      "0  63.000000       89.0       36.0          348        69.6  \n",
      "1  83.000000       88.0       34.0          350        70.0  \n",
      "2  83.444444       56.0       36.0          349        69.8  \n",
      "3  70.000000       33.0       23.0          298        59.6  \n",
      "4  78.000000       23.0       56.0          327        65.4  \n",
      "\n",
      "\n"
     ]
    }
   ],
   "source": [
    "print(\"---------------Correction in Percentage & Total Marks Columns---------------\")\n",
    "df['Total Marks']= (df['Phy_marks']+df['Che_marks']+df['EM1_marks']+df['PPS_marks']+df['SME_marks']).astype(int)\n",
    "df['Percentage']= df['Total Marks']/5\n",
    "print(df.head())\n",
    "print(\"\\n\")"
   ]
  },
  {
   "cell_type": "code",
   "execution_count": 10,
   "metadata": {},
   "outputs": [
    {
     "name": "stdout",
     "output_type": "stream",
     "text": [
      "-------------After Handling Missing Values-------------\n",
      "Rollno         0\n",
      "Name           0\n",
      "Gender         0\n",
      "Branch         0\n",
      "Attendence     0\n",
      "Phy_marks      0\n",
      "Che_marks      0\n",
      "EM1_marks      0\n",
      "PPS_marks      0\n",
      "SME_marks      0\n",
      "Total Marks    0\n",
      "Percentage     0\n",
      "dtype: int64\n"
     ]
    }
   ],
   "source": [
    "print(\"-------------After Handling Missing Values-------------\")\n",
    "print(df.isnull().sum())"
   ]
  },
  {
   "cell_type": "code",
   "execution_count": 11,
   "metadata": {},
   "outputs": [
    {
     "name": "stdout",
     "output_type": "stream",
     "text": [
      "=================Handling Outliers===================\n",
      "\n"
     ]
    }
   ],
   "source": [
    "print(\"=================Handling Outliers===================\\n\")"
   ]
  },
  {
   "cell_type": "code",
   "execution_count": 21,
   "metadata": {},
   "outputs": [
    {
     "name": "stdout",
     "output_type": "stream",
     "text": [
      "-------------Identifying Outliers in Columns-------------\n"
     ]
    },
    {
     "data": {
      "image/png": "[encoded data removed]",
      "text/plain": [
       "<Figure size 960x600 with 6 Axes>"
      ]
     },
     "metadata": {},
     "output_type": "display_data"
    }
   ],
   "source": [
    "print(\"-------------Identifying Outliers in Columns-------------\")\n",
    "plt.rcParams[\"figure.figsize\"] = (8,5)\n",
    "df_list = ['Attendence', 'Phy_marks', 'Che_marks', 'EM1_marks', 'PPS_marks', 'SME_marks']\n",
    "fig, axes = plt.subplots(2, 3)\n",
    "fig.set_dpi(120)"
   ]
  },
  {
   "cell_type": "code",
   "execution_count": 22,
   "metadata": {},
   "outputs": [],
   "source": [
    "count  = 0\n",
    "for r in range(2):\n",
    "    for c in range(3):\n",
    "        _ = df[df_list[count]].plot(kind = 'box', ax=axes[r,c])\n",
    "        count+=1"
   ]
  },
  {
   "cell_type": "code",
   "execution_count": 23,
   "metadata": {},
   "outputs": [],
   "source": [
    "plt.show()"
   ]
  },
  {
   "cell_type": "code",
   "execution_count": 24,
   "metadata": {},
   "outputs": [
    {
     "name": "stdout",
     "output_type": "stream",
     "text": [
      "-------------Removing Outliers from Che_Makrs Column-------------\n"
     ]
    }
   ],
   "source": [
    "print(\"-------------Removing Outliers from Che_Makrs Column-------------\")\n",
    "q1 = df['Che_marks'].quantile(0.25)\n",
    "q3 = df['Che_marks'].quantile(0.75)"
   ]
  },
  {
   "cell_type": "code",
   "execution_count": 25,
   "metadata": {},
   "outputs": [],
   "source": [
    "Lower_limit = q1 - 1.5 * (q3 - q1)\n",
    "Upper_limit = q3 + 1.5 * (q3 - q1)"
   ]
  },
  {
   "cell_type": "code",
   "execution_count": 26,
   "metadata": {},
   "outputs": [
    {
     "name": "stdout",
     "output_type": "stream",
     "text": [
      "q1 = 76.0, q3 = 86.25, IQR = 10.25, Lower_limit = 60.625, Upper_limit = 101.625\n",
      "    Rollno    Name Gender Branch  Attendence  Phy_marks  Che_marks  EM1_marks  \\\n",
      "7        8  Ishaan      M   ENTC        75.0       66.0       51.0       83.0   \n",
      "14      15  Maryam      F     IT        64.0       87.0       60.0       90.0   \n",
      "\n",
      "    PPS_marks  SME_marks  Total Marks  Percentage Grade  \n",
      "7   69.611111       76.0          345        69.0     B  \n",
      "14  65.000000       90.0          392        78.4     A  \n",
      "\n",
      "\n"
     ]
    }
   ],
   "source": [
    "print(f'q1 = {q1}, q3 = {q3}, IQR = {q3 -q1}, Lower_limit = {Lower_limit}, Upper_limit = {Upper_limit}')\n",
    "print(df[(df['Che_marks'] < Lower_limit) | (df['Che_marks'] > Upper_limit)])\n",
    "print(\"\\n\")"
   ]
  },
  {
   "cell_type": "code",
   "execution_count": 27,
   "metadata": {},
   "outputs": [
    {
     "name": "stdout",
     "output_type": "stream",
     "text": [
      "=====================Binning (convert into normal distribution)========================\n",
      "\n",
      "------------Gradding According to percentage\n"
     ]
    }
   ],
   "source": [
    "print(\"=====================Binning (convert into normal distribution)========================\\n\")\n",
    "print(\"------------Gradding According to percentage\")"
   ]
  },
  {
   "cell_type": "markdown",
   "metadata": {},
   "source": [
    "function for Grading\n"
   ]
  },
  {
   "cell_type": "code",
   "execution_count": 28,
   "metadata": {},
   "outputs": [],
   "source": [
    "def BinningFunction(column, cut_points, labels = None) :\n",
    "    break_points=[column.min()] + cut_points + [column.max( )]\n",
    "    print('Gradding According to percentage \\n<60 = F \\n60-70 = B \\n70-80 = A\\n80-100 = O')\n",
    "    return pd.cut(column, bins=break_points, labels=labels, include_lowest=True)"
   ]
  },
  {
   "cell_type": "code",
   "execution_count": 29,
   "metadata": {},
   "outputs": [
    {
     "name": "stdout",
     "output_type": "stream",
     "text": [
      "Gradding According to percentage \n",
      "<60 = F \n",
      "60-70 = B \n",
      "70-80 = A\n",
      "80-100 = O\n",
      "   Rollno       Name Gender Branch  Attendence  Phy_marks   Che_marks  \\\n",
      "0       1   Mohammed      M   Comp        72.0  62.000000   98.000000   \n",
      "1       2    Reyansh      M     IT        58.0  62.000000   83.000000   \n",
      "2       3      Aarav      M     IT        57.0  74.058824  100.000000   \n",
      "3       4     Atharv      M     IT        60.0  89.000000   83.000000   \n",
      "4       5     Vivaan      M   Comp        85.0  90.000000   80.764706   \n",
      "5       6      Advik      M   ENTC        94.0  99.000000   84.000000   \n",
      "6       7       Ansh      M   ENTC        98.0  88.000000   95.000000   \n",
      "7       8     Ishaan      M   ENTC        75.0  66.000000   51.000000   \n",
      "8       9      Dhruv      M   ENTC        63.0  74.058824   80.764706   \n",
      "9      10  Siddharth      M   ENTC        96.0  67.000000   78.000000   \n",
      "\n",
      "    EM1_marks  PPS_marks  SME_marks  Total Marks  Percentage Grade  \n",
      "0   63.000000  89.000000       36.0          348        69.6     B  \n",
      "1   83.000000  88.000000       34.0          350        70.0     B  \n",
      "2   83.444444  56.000000       36.0          349        69.8     B  \n",
      "3   70.000000  33.000000       23.0          298        59.6     F  \n",
      "4   78.000000  23.000000       56.0          327        65.4     B  \n",
      "5  100.000000  56.000000       99.0          438        87.6     O  \n",
      "6   81.000000  78.000000       78.0          420        84.0     O  \n",
      "7   83.000000  69.611111       76.0          345        69.0     B  \n",
      "8   97.000000  56.000000       55.0          362        72.4     A  \n",
      "9   95.000000  69.611111       98.0          407        81.4     O  \n",
      "\n",
      "\n"
     ]
    }
   ],
   "source": [
    "cut_points = [60, 70, 80]\n",
    "labels = ['F', 'B', 'A', 'O']\n",
    "df['Grade'] = BinningFunction(df['Percentage'], cut_points, labels)\n",
    "print(df.head(10))\n",
    "print(\"\\n\")"
   ]
  },
  {
   "cell_type": "code",
   "execution_count": null,
   "metadata": {},
   "outputs": [],
   "source": []
  }
 ],
 "metadata": {
  "kernelspec": {
   "display_name": "Python 3 (ipykernel)",
   "language": "python",
   "name": "python3"
  },
  "language_info": {
   "codemirror_mode": {
    "name": "ipython",
    "version": 3
   },
   "file_extension": ".py",
   "mimetype": "text/x-python",
   "name": "python",
   "nbconvert_exporter": "python",
   "pygments_lexer": "ipython3",
   "version": "3.11.7"
  }
 },
 "nbformat": 4,
 "nbformat_minor": 4
}

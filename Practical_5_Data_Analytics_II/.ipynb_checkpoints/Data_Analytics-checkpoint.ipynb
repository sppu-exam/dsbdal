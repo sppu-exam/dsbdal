{
 "cells": [
  {
   "cell_type": "code",
   "execution_count": 56,
   "metadata": {},
   "outputs": [],
   "source": [
    "import numpy as np\n",
    "import matplotlib.pyplot as plt\n",
    "import pandas as pd\n",
    "import seaborn as sns"
   ]
  },
  {
   "cell_type": "markdown",
   "metadata": {},
   "source": [
    "Load Dataframe\n"
   ]
  },
  {
   "cell_type": "code",
   "execution_count": 57,
   "metadata": {},
   "outputs": [],
   "source": [
    "df = pd.read_csv('Social_Network_Ads.csv')"
   ]
  },
  {
   "cell_type": "code",
   "execution_count": 58,
   "metadata": {},
   "outputs": [
    {
     "name": "stdout",
     "output_type": "stream",
     "text": [
      "----------------Dataframe Info------------------\n",
      "<class 'pandas.core.frame.DataFrame'>\n",
      "RangeIndex: 400 entries, 0 to 399\n",
      "Data columns (total 5 columns):\n",
      " #   Column           Non-Null Count  Dtype  \n",
      "---  ------           --------------  -----  \n",
      " 0   User ID          400 non-null    int64  \n",
      " 1   Gender           400 non-null    object \n",
      " 2   Age              400 non-null    float64\n",
      " 3   EstimatedSalary  400 non-null    float64\n",
      " 4   Purchased        400 non-null    int64  \n",
      "dtypes: float64(2), int64(2), object(1)\n",
      "memory usage: 15.8+ KB\n",
      "None\n",
      "\n",
      "\n"
     ]
    }
   ],
   "source": [
    "print(\"----------------Dataframe Info------------------\")\n",
    "print(df.info())\n",
    "print(\"\\n\")"
   ]
  },
  {
   "cell_type": "code",
   "execution_count": 59,
   "metadata": {},
   "outputs": [
    {
     "name": "stdout",
     "output_type": "stream",
     "text": [
      "---------------Dataframe Descibe----------------\n",
      "            User ID         Age  EstimatedSalary   Purchased\n",
      "count  4.000000e+02  400.000000       400.000000  400.000000\n",
      "mean   1.569154e+07   37.655000     69742.500000    0.357500\n",
      "std    7.165832e+04   10.482877     34096.960282    0.479864\n",
      "min    1.556669e+07   18.000000     15000.000000    0.000000\n",
      "25%    1.562676e+07   29.750000     43000.000000    0.000000\n",
      "50%    1.569434e+07   37.000000     70000.000000    0.000000\n",
      "75%    1.575036e+07   46.000000     88000.000000    1.000000\n",
      "max    1.581524e+07   60.000000    150000.000000    1.000000\n",
      "\n",
      "\n"
     ]
    }
   ],
   "source": [
    "print(\"---------------Dataframe Descibe----------------\")\n",
    "print(df.describe())\n",
    "print(\"\\n\")"
   ]
  },
  {
   "cell_type": "code",
   "execution_count": 60,
   "metadata": {},
   "outputs": [
    {
     "name": "stdout",
     "output_type": "stream",
     "text": [
      "---------------First 5 rows of Dataframe----------------\n",
      "    User ID  Gender   Age  EstimatedSalary  Purchased\n",
      "0  15624510    Male  19.0          19000.0          0\n",
      "1  15810944    Male  35.0          20000.0          0\n",
      "2  15668575  Female  26.0          43000.0          0\n",
      "3  15603246  Female  27.0          57000.0          0\n",
      "4  15804002    Male  19.0          76000.0          0\n",
      "\n",
      "\n"
     ]
    }
   ],
   "source": [
    "print(\"---------------First 5 rows of Dataframe----------------\")\n",
    "print(df.head())\n",
    "print(\"\\n\")"
   ]
  },
  {
   "cell_type": "code",
   "execution_count": 61,
   "metadata": {},
   "outputs": [
    {
     "name": "stdout",
     "output_type": "stream",
     "text": [
      "---------------Train Dataset-------------\n"
     ]
    }
   ],
   "source": [
    "print(\"---------------Train Dataset-------------\")\n",
    "X = df[['Age', 'EstimatedSalary']]\n",
    "Y = df['Purchased']"
   ]
  },
  {
   "cell_type": "code",
   "execution_count": 62,
   "metadata": {},
   "outputs": [],
   "source": [
    "from sklearn.model_selection import train_test_split\n",
    "from sklearn.preprocessing import StandardScaler"
   ]
  },
  {
   "cell_type": "code",
   "execution_count": 63,
   "metadata": {},
   "outputs": [
    {
     "name": "stdout",
     "output_type": "stream",
     "text": [
      "Train Dataset Size - X: (300, 2), Y: (300,)\n",
      "Test  Dataset Size - X: (100, 2), Y: (100,)\n"
     ]
    }
   ],
   "source": [
    "X_train, X_test, Y_train, Y_test = train_test_split(X, Y, test_size = 0.25, random_state = 0)\n",
    "sc_X = StandardScaler()\n",
    "X_train = sc_X.fit_transform(X_train)\n",
    "X_test = sc_X.transform(X_test)\n",
    "print(f'Train Dataset Size - X: {X_train.shape}, Y: {Y_train.shape}')\n",
    "print(f'Test  Dataset Size - X: {X_test.shape}, Y: {Y_test.shape}')"
   ]
  },
  {
   "cell_type": "markdown",
   "metadata": {},
   "source": [
    "Linner Regression<br>\n",
    "This code fits a logistic regression model on the training data, <br>\n",
    "makes predictions on the test data, and plots the regression line<br>\n",
    "along with the actual test data to visualize the accuracy of the model.\n"
   ]
  },
  {
   "cell_type": "code",
   "execution_count": 64,
   "metadata": {},
   "outputs": [
    {
     "name": "stdout",
     "output_type": "stream",
     "text": [
      "----------------Linner Regression-------------------\n"
     ]
    }
   ],
   "source": [
    "print(\"----------------Linner Regression-------------------\")\n",
    "from sklearn.linear_model import LogisticRegression"
   ]
  },
  {
   "cell_type": "code",
   "execution_count": 65,
   "metadata": {},
   "outputs": [
    {
     "data": {
      "image/png": "[encoded data removed]",
      "text/plain": [
       "<Figure size 600x600 with 1 Axes>"
      ]
     },
     "metadata": {},
     "output_type": "display_data"
    }
   ],
   "source": [
    "lm = LogisticRegression(random_state=0, solver='lbfgs')\n",
    "lm.fit(X_train, Y_train)\n",
    "predictions = lm.predict(X_test)\n",
    "plt.figure(figsize=(6, 6))\n",
    "sns.regplot(x = X_test[:, 1], y = predictions, scatter_kws={'s':5})\n",
    "plt.scatter(X_test[:, 1], Y_test, marker = '+')\n",
    "plt.xlabel(\"User's Estimated Salary\")\n",
    "plt.ylabel('Ads Purchased')\n",
    "plt.title('Regression Line Tracing')\n",
    "plt.show()"
   ]
  },
  {
   "cell_type": "code",
   "execution_count": 66,
   "metadata": {},
   "outputs": [
    {
     "name": "stdout",
     "output_type": "stream",
     "text": [
      "-------------Confusion Matrix---------------\n"
     ]
    }
   ],
   "source": [
    "print(\"-------------Confusion Matrix---------------\")\n",
    "from sklearn.metrics import confusion_matrix\n",
    "from sklearn.metrics import classification_report"
   ]
  },
  {
   "cell_type": "code",
   "execution_count": 67,
   "metadata": {},
   "outputs": [
    {
     "name": "stdout",
     "output_type": "stream",
     "text": [
      "Confusion matrix :\n",
      "\n",
      "               | Positive Prediction\t| Negative Prediction\n",
      "---------------+------------------------+----------------------\n",
      "Positive Class | True Positive (TP) 65\t| False Negative (FN) 3\n",
      "---------------+------------------------+----------------------\n",
      "Negative Class | False Positive (FP) 8\t| True Negative (TN) 24\n",
      "\n",
      "\n"
     ]
    }
   ],
   "source": [
    "cm = confusion_matrix(Y_test, predictions)\n",
    "print(f'''Confusion matrix :\\n\n",
    "               | Positive Prediction\\t| Negative Prediction\n",
    "---------------+------------------------+----------------------\n",
    "Positive Class | True Positive (TP) {cm[0, 0]}\\t| False Negative (FN) {cm[0, 1]}\n",
    "---------------+------------------------+----------------------\n",
    "Negative Class | False Positive (FP) {cm[1, 0]}\\t| True Negative (TN) {cm[1, 1]}\\n\\n''')"
   ]
  },
  {
   "cell_type": "code",
   "execution_count": 68,
   "metadata": {},
   "outputs": [
    {
     "name": "stdout",
     "output_type": "stream",
     "text": [
      "Classification report : \n",
      "               precision    recall  f1-score   support\n",
      "\n",
      "           0       0.89      0.96      0.92        68\n",
      "           1       0.89      0.75      0.81        32\n",
      "\n",
      "    accuracy                           0.89       100\n",
      "   macro avg       0.89      0.85      0.87       100\n",
      "weighted avg       0.89      0.89      0.89       100\n",
      "\n"
     ]
    }
   ],
   "source": [
    "cm = classification_report(Y_test, predictions)\n",
    "print('Classification report : \\n', cm)"
   ]
  },
  {
   "cell_type": "markdown",
   "metadata": {},
   "source": [
    "Visualizing Training set result<br>\n",
    "This code visualizes the training set results for the logistic regression model. <br>\n",
    "It creates a meshgrid of points, makes predictions on those points using the trained model, <br>\n",
    "and plots the decision boundary. <br>\n",
    "It also scatters the actual training data points, coloring them based on their true class.<br>\n",
    "This allows us to see how well the logistic regression model fits the training data.\n"
   ]
  },
  {
   "cell_type": "code",
   "execution_count": 69,
   "metadata": {},
   "outputs": [
    {
     "name": "stdout",
     "output_type": "stream",
     "text": [
      "-----------------Visualizing Training set result----------------\n"
     ]
    }
   ],
   "source": [
    "print(\"-----------------Visualizing Training set result----------------\")\n",
    "from matplotlib.colors import ListedColormap\n",
    "X_set, y_set = X_train, Y_train\n",
    "X1, X2 = np.meshgrid(np.arange(start = X_set[:, 0].min() - 1, stop = X_set[:, 0].max() + 1, step = 0.01),\n",
    "                     np.arange(start = X_set[:, 1].min() - 1, stop = X_set[:, 1].max() + 1, step = 0.01))\n",
    "\n",
    "\n"
   ]
  },
  {
   "cell_type": "code",
   "execution_count": null,
   "metadata": {},
   "outputs": [],
   "source": []
  },
  {
   "cell_type": "markdown",
   "metadata": {},
   "source": [
    "Visualizing Test set result<br>\n",
    "This code is visualizing the test set results after training the logistic regression model. <br>\n",
    "It creates meshgrid of points, makes predictions on those points using the trained model, <br>\n",
    "and plots the decision boundary. It also scatters the actual test set data points on top.<br>\n",
    "This allows us to visualize how well the model is able to separate the two classes on the test data.<br>\n",
    "The various plot settings like colors, alpha, labels etc help interpret the results better.\n"
   ]
  },
  {
   "cell_type": "code",
   "execution_count": 70,
   "metadata": {},
   "outputs": [
    {
     "name": "stdout",
     "output_type": "stream",
     "text": [
      "-----------------Visualizing Test set result----------------\n"
     ]
    }
   ],
   "source": [
    "\n",
    "print(\"-----------------Visualizing Test set result----------------\")\n",
    "from matplotlib.colors import ListedColormap\n",
    "X_set, y_set = X_test, Y_test\n",
    "X1, X2 = np.meshgrid(np.arange(start = X_set[:, 0].min() - 1, stop = X_set[:, 0].max() + 1, step = 0.01),\n",
    "                     np.arange(start = X_set[:, 1].min() - 1, stop = X_set[:, 1].max() + 1, step = 0.01))\n",
    "\n",
    "\n"
   ]
  },
  {
   "cell_type": "code",
   "execution_count": null,
   "metadata": {},
   "outputs": [],
   "source": []
  },
  {
   "cell_type": "code",
   "execution_count": null,
   "metadata": {},
   "outputs": [],
   "source": []
  },
  {
   "cell_type": "code",
   "execution_count": null,
   "metadata": {},
   "outputs": [],
   "source": []
  }
 ],
 "metadata": {
  "kernelspec": {
   "display_name": "Python 3 (ipykernel)",
   "language": "python",
   "name": "python3"
  },
  "language_info": {
   "codemirror_mode": {
    "name": "ipython",
    "version": 3
   },
   "file_extension": ".py",
   "mimetype": "text/x-python",
   "name": "python",
   "nbconvert_exporter": "python",
   "pygments_lexer": "ipython3",
   "version": "3.11.7"
  }
 },
 "nbformat": 4,
 "nbformat_minor": 4
}
